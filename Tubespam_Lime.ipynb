{
  "nbformat": 4,
  "nbformat_minor": 0,
  "metadata": {
    "colab": {
      "name": "Tubespam-Lime",
      "provenance": [],
      "collapsed_sections": [],
      "include_colab_link": true
    },
    "kernelspec": {
      "name": "python3",
      "display_name": "Python 3"
    },
    "language_info": {
      "name": "python"
    }
  },
  "cells": [
    {
      "cell_type": "markdown",
      "metadata": {
        "id": "view-in-github",
        "colab_type": "text"
      },
      "source": [
        "<a href=\"https://colab.research.google.com/github/CKCritter/Why-Should-I-Trust-You-Group-7/blob/main/Tubespam_Lime.ipynb\" target=\"_parent\"><img src=\"https://colab.research.google.com/assets/colab-badge.svg\" alt=\"Open In Colab\"/></a>"
      ]
    },
    {
      "cell_type": "markdown",
      "metadata": {
        "id": "W93zppAoj1c-"
      },
      "source": [
        "Installs  \n",
        "You only need to run this cell once"
      ]
    },
    {
      "cell_type": "code",
      "metadata": {
        "id": "1QARFrIOHbhH"
      },
      "source": [
        "!pip install -U lime\n",
        "!pip install -U scikit-learn\n",
        "!pip install -U pandas"
      ],
      "execution_count": null,
      "outputs": []
    },
    {
      "cell_type": "markdown",
      "metadata": {
        "id": "Y0S1x6lZjnHl"
      },
      "source": [
        "Downloading datasets  \n",
        "You only need to run this cell once"
      ]
    },
    {
      "cell_type": "code",
      "metadata": {
        "id": "DgUHaF-YDN68",
        "outputId": "d543ab5f-e434-447f-a1ad-a16d93288fa8",
        "colab": {
          "base_uri": "https://localhost:8080/"
        }
      },
      "source": [
        "from google.colab import drive \n",
        "drive.mount('/content/gdrive')\n",
        "\n",
        "%cd /content/gdrive/MyDrive\n",
        "!mkdir team7-project-3\n",
        "%cd team7-project-3\n",
        "!ls"
      ],
      "execution_count": 3,
      "outputs": [
        {
          "output_type": "stream",
          "text": [
            "Mounted at /content/gdrive\n",
            "/content/gdrive/MyDrive\n",
            "mkdir: cannot create directory ‘team7-project-3’: File exists\n",
            "/content/gdrive/MyDrive/team7-project-3\n",
            "__MACOSX\t\t Youtube05-Shakira.csv\n",
            "Youtube01-Psy.csv\t YouTube-Spam-Collection-v1.zip\n",
            "Youtube02-KatyPerry.csv  YouTube-Spam-Collection-v1.zip.1\n",
            "Youtube03-LMFAO.csv\t YouTube-Spam-Collection-v1.zip.2\n",
            "Youtube04-Eminem.csv\t YouTube-Spam-Collection-v1.zip.3\n"
          ],
          "name": "stdout"
        }
      ]
    },
    {
      "cell_type": "code",
      "metadata": {
        "id": "TeWdaCLK-Seu"
      },
      "source": [
        "!wget https://archive.ics.uci.edu/ml/machine-learning-databases/00380/YouTube-Spam-Collection-v1.zip\n",
        "!unzip YouTube-Spam-Collection-v1.zip"
      ],
      "execution_count": null,
      "outputs": []
    },
    {
      "cell_type": "code",
      "metadata": {
        "id": "0euyxCe7-VLi"
      },
      "source": [
        "path = \"/content/gdrive/My Drive/team7-project-3\" #change this path to the folder containing your tubespam dataset"
      ],
      "execution_count": 4,
      "outputs": []
    },
    {
      "cell_type": "markdown",
      "metadata": {
        "id": "Wpd0Xx8Tjs28"
      },
      "source": [
        "Imports"
      ]
    },
    {
      "cell_type": "code",
      "metadata": {
        "id": "lOiG39xn_GN7"
      },
      "source": [
        "import lime\n",
        "import sklearn\n",
        "from sklearn.naive_bayes import BernoulliNB\n",
        "from sklearn.model_selection import train_test_split\n",
        "from sklearn.feature_extraction.text import CountVectorizer\n",
        "\n",
        "import pandas"
      ],
      "execution_count": 5,
      "outputs": []
    },
    {
      "cell_type": "markdown",
      "metadata": {
        "id": "WII9DShvjzVB"
      },
      "source": [
        "This cell sets up the datasets. By default they are concatonated. If you would like to test only one dataset simply uncomment one of the \"data=tx\" lines, the most recent will take priority"
      ]
    },
    {
      "cell_type": "code",
      "metadata": {
        "id": "HcLyzkIHCqP-"
      },
      "source": [
        "t1 = pandas.read_csv(\"Youtube01-Psy.csv\")\n",
        "t2 = pandas.read_csv(\"Youtube02-KatyPerry.csv\")\n",
        "t3 = pandas.read_csv(\"Youtube03-LMFAO.csv\")\n",
        "t4 = pandas.read_csv(\"Youtube04-Eminem.csv\")\n",
        "t5 = pandas.read_csv(\"Youtube05-Shakira.csv\")\n",
        "\n",
        "#All data concatonated\n",
        "cv = CountVectorizer()\n",
        "data = pandas.merge(t1, t2, how=\"outer\")\n",
        "data = pandas.merge(data, t3, how=\"outer\")\n",
        "data = pandas.merge(data, t4, how=\"outer\")\n",
        "data = pandas.merge(data, t5, how=\"outer\")\n",
        "\n",
        "#one dataset\n",
        "#data = t1\n",
        "#data = t2\n",
        "#data = t3\n",
        "#data = t4\n",
        "#data = t5\n",
        "\n",
        "data_x = cv.fit_transform(data[\"CONTENT\"])\n",
        "data_y = data[\"CLASS\"]"
      ],
      "execution_count": 73,
      "outputs": []
    },
    {
      "cell_type": "markdown",
      "metadata": {
        "id": "s5HbvU7mj-O2"
      },
      "source": [
        "Bernoulli Naive Bayes Classifier"
      ]
    },
    {
      "cell_type": "code",
      "metadata": {
        "colab": {
          "base_uri": "https://localhost:8080/"
        },
        "id": "va0dd-BjL4ie",
        "outputId": "753e64e2-ce59-4a96-a9f3-bb4cc2ccf70a"
      },
      "source": [
        "bnb = BernoulliNB()\n",
        "\n",
        "train_x, test_x, train_y, test_y = train_test_split(data_x, data_y, test_size=0.1)#This is a hack\n",
        "\n",
        "bnb.fit(train_x, train_y)\n",
        "\n",
        "acc = (test_y == bnb.predict(test_x)).sum()\n",
        "print(acc, len(test_y), acc / len(test_y))\n",
        "\n",
        "acc = (train_y == bnb.predict(train_x)).sum()\n",
        "print(acc, len(train_y), acc / len(train_y))"
      ],
      "execution_count": 74,
      "outputs": [
        {
          "output_type": "stream",
          "text": [
            "167 196 0.8520408163265306\n",
            "1605 1760 0.9119318181818182\n"
          ],
          "name": "stdout"
        }
      ]
    },
    {
      "cell_type": "markdown",
      "metadata": {
        "id": "9bTD34zxj880"
      },
      "source": [
        "LIME"
      ]
    },
    {
      "cell_type": "code",
      "metadata": {
        "colab": {
          "base_uri": "https://localhost:8080/"
        },
        "id": "Uxcj1hq1dvSw",
        "outputId": "84b347fd-0979-4fb8-d339-3d4631401620"
      },
      "source": [
        "#Modified from the lime repository's very good tutorial\n",
        "from sklearn.pipeline import make_pipeline\n",
        "from lime.lime_text import LimeTextExplainer\n",
        "\n",
        "c = make_pipeline(cv, bnb)\n",
        "class_names = ['ham', 'spam']\n",
        "\n",
        "explainer = LimeTextExplainer(class_names=class_names)\n",
        "\n",
        "import random\n",
        "\n",
        "idx = random.randrange(0, len(data[\"CONTENT\"]))\n",
        "exp = explainer.explain_instance(data[\"CONTENT\"][idx], c.predict_proba, num_features=6)\n",
        "print('Document id: %d' % idx)\n",
        "print('ProbabiliPty(spam) =', c.predict_proba([data[\"CONTENT\"][idx]])[0, 1])\n",
        "print('ProbabiliPty(ham) =', c.predict_proba([data[\"CONTENT\"][idx]])[0, 0])\n",
        "print('True class: %s' % class_names[data_y[idx]])\n",
        "exp.as_list()"
      ],
      "execution_count": 92,
      "outputs": [
        {
          "output_type": "stream",
          "text": [
            "Document id: 329\n",
            "ProbabiliPty(spam) = 0.9999934202544657\n",
            "ProbabiliPty(ham) = 6.579745536072133e-06\n",
            "True class: spam\n"
          ],
          "name": "stdout"
        },
        {
          "output_type": "execute_result",
          "data": {
            "text/plain": [
              "[('com', 0.26969127211352395),\n",
              " ('https', 0.23505363587823588),\n",
              " ('FOLLOW', 0.1838886702994772),\n",
              " ('thanks', 0.17564382380825086),\n",
              " ('ON', 0.14080604489606138),\n",
              " ('MY', 0.132204204673946)]"
            ]
          },
          "metadata": {
            "tags": []
          },
          "execution_count": 92
        }
      ]
    }
  ]
}