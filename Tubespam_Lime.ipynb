{
  "nbformat": 4,
  "nbformat_minor": 0,
  "metadata": {
    "colab": {
      "name": "Tubespam-Lime",
      "provenance": [],
      "collapsed_sections": [],
      "authorship_tag": "ABX9TyOEyfJ7hJ3h5Nd4TBsuGUEw",
      "include_colab_link": true
    },
    "kernelspec": {
      "name": "python3",
      "display_name": "Python 3"
    },
    "language_info": {
      "name": "python"
    }
  },
  "cells": [
    {
      "cell_type": "markdown",
      "metadata": {
        "id": "view-in-github",
        "colab_type": "text"
      },
      "source": [
        "<a href=\"https://colab.research.google.com/github/CKCritter/Why-Should-I-Trust-You-Group-7/blob/main/Tubespam_Lime.ipynb\" target=\"_parent\"><img src=\"https://colab.research.google.com/assets/colab-badge.svg\" alt=\"Open In Colab\"/></a>"
      ]
    },
    {
      "cell_type": "markdown",
      "metadata": {
        "id": "W93zppAoj1c-"
      },
      "source": [
        "Installs  \n",
        "You only need to run this cell once"
      ]
    },
    {
      "cell_type": "code",
      "metadata": {
        "id": "1QARFrIOHbhH"
      },
      "source": [
        "!pip install -U lime\n",
        "!pip install -U scikit-learn\n",
        "!pip install -U pandas"
      ],
      "execution_count": null,
      "outputs": []
    },
    {
      "cell_type": "markdown",
      "metadata": {
        "id": "Y0S1x6lZjnHl"
      },
      "source": [
        "Downloading datasets  \n",
        "You only need to run this cell once"
      ]
    },
    {
      "cell_type": "code",
      "metadata": {
        "id": "DgUHaF-YDN68"
      },
      "source": [
        "from google.colab import drive \n",
        "drive.mount('/content/gdrive')\n",
        "\n",
        "%cd /content/gdrive/MyDrive\n",
        "!mkdir team7-project-3\n",
        "%cd team7-project-3\n",
        "!ls\n",
        "!wget https://archive.ics.uci.edu/ml/machine-learning-databases/00380/YouTube-Spam-Collection-v1.zip\n",
        "!unzip YouTube-Spam-Collection-v1.zip\n",
        "\n",
        "\n",
        "path = \"/content/gdrive/My Drive/team7-project-3\" #change this path to the folder containing your tubespam dataset"
      ],
      "execution_count": null,
      "outputs": []
    },
    {
      "cell_type": "markdown",
      "metadata": {
        "id": "Wpd0Xx8Tjs28"
      },
      "source": [
        "Imports"
      ]
    },
    {
      "cell_type": "code",
      "metadata": {
        "id": "lOiG39xn_GN7"
      },
      "source": [
        "import lime\n",
        "import sklearn\n",
        "from sklearn.naive_bayes import BernoulliNB\n",
        "from sklearn.model_selection import train_test_split\n",
        "from sklearn.feature_extraction.text import CountVectorizer\n",
        "\n",
        "import pandas"
      ],
      "execution_count": null,
      "outputs": []
    },
    {
      "cell_type": "markdown",
      "metadata": {
        "id": "WII9DShvjzVB"
      },
      "source": [
        ""
      ]
    },
    {
      "cell_type": "code",
      "metadata": {
        "id": "HcLyzkIHCqP-"
      },
      "source": [
        "#Feel free to swap out the datasets\n",
        "training_dataset = pandas.read_csv(\"Youtube01-Psy.csv\")\n",
        "testing_dataset = pandas.read_csv(\"Youtube02-KatyPerry.csv\")\n",
        "#Youtube01-Psy.csv\n",
        "#Youtube02-KatyPerry.csv\n",
        "#Youtube03-LMFAO.csv\n",
        "#Youtube04-Eminem.csv\n",
        "#Youtube05-Shakira.csv"
      ],
      "execution_count": null,
      "outputs": []
    },
    {
      "cell_type": "markdown",
      "metadata": {
        "id": "s5HbvU7mj-O2"
      },
      "source": [
        "Bernoulli Naive Bayes Classifier"
      ]
    },
    {
      "cell_type": "code",
      "metadata": {
        "colab": {
          "base_uri": "https://localhost:8080/"
        },
        "id": "va0dd-BjL4ie",
        "outputId": "6802592c-fb26-4368-9241-10a067ced7e9"
      },
      "source": [
        "bnb = BernoulliNB()\n",
        "\n",
        "cv = CountVectorizer()\n",
        "\n",
        "train_x = cv.fit_transform(training_dataset[\"CONTENT\"])\n",
        "train_y = training_dataset[\"CLASS\"]\n",
        "\n",
        "test_x = cv.transform(testing_dataset[\"CONTENT\"])\n",
        "test_y = testing_dataset[\"CLASS\"]\n",
        "\n",
        "\n",
        "#train_x, test_x, train_y, test_y = train_test_split(test_x, test_y, test_size=0.9999)#This is a hack\n",
        "\n",
        "bnb.fit(train_x, train_y)\n",
        "\n",
        "acc = (test_y == bnb.predict(test_x)).sum()\n",
        "print(acc, len(test_y), acc / len(test_y))"
      ],
      "execution_count": null,
      "outputs": [
        {
          "output_type": "stream",
          "text": [
            "327 350 0.9342857142857143\n"
          ],
          "name": "stdout"
        }
      ]
    },
    {
      "cell_type": "markdown",
      "metadata": {
        "id": "9bTD34zxj880"
      },
      "source": [
        "LIME"
      ]
    },
    {
      "cell_type": "code",
      "metadata": {
        "colab": {
          "base_uri": "https://localhost:8080/"
        },
        "id": "Uxcj1hq1dvSw",
        "outputId": "b1181269-1b68-4ccd-e044-10f0503b6801"
      },
      "source": [
        "#Modified from the lime repository's very good tutorial\n",
        "from sklearn.pipeline import make_pipeline\n",
        "from lime.lime_text import LimeTextExplainer\n",
        "\n",
        "c = make_pipeline(cv, bnb)\n",
        "class_names = ['ham', 'spam']\n",
        "\n",
        "explainer = LimeTextExplainer(class_names=class_names)\n",
        "\n",
        "idx = 83\n",
        "exp = explainer.explain_instance(testing_dataset[\"CONTENT\"][idx], c.predict_proba, num_features=6)\n",
        "print('Document id: %d' % idx)\n",
        "print('Probability(spam) =', c.predict_proba([testing_dataset[\"CONTENT\"][idx]])[0, 1])\n",
        "print('True class: %s' % class_names[test_y[idx]])\n",
        "exp.as_list()"
      ],
      "execution_count": null,
      "outputs": [
        {
          "output_type": "stream",
          "text": [
            "Document id: 83\n",
            "Probability(spam) = 0.9999986995379119\n",
            "True class: spam\n"
          ],
          "name": "stdout"
        },
        {
          "output_type": "execute_result",
          "data": {
            "text/plain": [
              "[('com', 0.11154827511265306),\n",
              " ('https', 0.09709656889056203),\n",
              " ('facebook', 0.07916735475780064),\n",
              " ('ref', 0.06305490890962176),\n",
              " ('amp', 0.05628435148173968),\n",
              " ('php', 0.02587432059581341)]"
            ]
          },
          "metadata": {
            "tags": []
          },
          "execution_count": 118
        }
      ]
    }
  ]
}